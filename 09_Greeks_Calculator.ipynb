{
  "nbformat": 4,
  "nbformat_minor": 0,
  "metadata": {
    "colab": {
      "name": "09_Greeks Calculator.ipynb",
      "provenance": [],
      "collapsed_sections": [],
      "toc_visible": true,
      "include_colab_link": true
    },
    "kernelspec": {
      "name": "python3",
      "display_name": "Python 3"
    },
    "language_info": {
      "name": "python"
    }
  },
  "cells": [
    {
      "cell_type": "markdown",
      "metadata": {
        "id": "view-in-github",
        "colab_type": "text"
      },
      "source": [
        "<a href=\"https://colab.research.google.com/github/dipakgore/dipakgore/blob/main/09_Greeks_Calculator.ipynb\" target=\"_parent\"><img src=\"https://colab.research.google.com/assets/colab-badge.svg\" alt=\"Open In Colab\"/></a>"
      ]
    },
    {
      "cell_type": "markdown",
      "metadata": {
        "id": "Vv62XUHkaDTJ"
      },
      "source": [
        "## Step 1: Import Libraries"
      ]
    },
    {
      "cell_type": "code",
      "metadata": {
        "colab": {
          "base_uri": "https://localhost:8080/"
        },
        "id": "wUhme81saGkT",
        "outputId": "92d154b6-3331-4bb6-d4e0-536098df5ecb"
      },
      "source": [
        "!pip install mibian"
      ],
      "execution_count": 1,
      "outputs": [
        {
          "output_type": "stream",
          "text": [
            "Collecting mibian\n",
            "  Downloading https://files.pythonhosted.org/packages/e5/74/25719d1f66b84561f209692947980660268cf601dc92766547b626eb03d5/mibian-0.1.3.tar.gz\n",
            "Building wheels for collected packages: mibian\n",
            "  Building wheel for mibian (setup.py) ... \u001b[?25l\u001b[?25hdone\n",
            "  Created wheel for mibian: filename=mibian-0.1.3-cp37-none-any.whl size=4041 sha256=21102fd5c63483866a61dce89c19487cb521b4a6276b2ba045670eb978596a93\n",
            "  Stored in directory: /root/.cache/pip/wheels/34/c7/51/22486b811445a01dab50193c9748e94242e55a4ce686a24240\n",
            "Successfully built mibian\n",
            "Installing collected packages: mibian\n",
            "Successfully installed mibian-0.1.3\n"
          ],
          "name": "stdout"
        }
      ]
    },
    {
      "cell_type": "code",
      "metadata": {
        "id": "bNxAf9OFaKWW"
      },
      "source": [
        "import mibian\n",
        "from tabulate import tabulate"
      ],
      "execution_count": 3,
      "outputs": []
    },
    {
      "cell_type": "markdown",
      "metadata": {
        "id": "-YuV8F7haNbM"
      },
      "source": [
        "# Step 2: Define Parameters\n",
        "\n",
        "stock_price: This is the price at which the stock is trading.\n",
        "\n",
        "strike_price: This is the price at which the option will be exercised.\n",
        "\n",
        "interest_rate: This is the risk-free rate prevailing in the economy. In our example, we will take future price as the stock_price and consider the interest rate as 0. This is because the future price includes the interest rate.\n",
        "\n",
        "days_to_expiry: This the number of calendar days left to expiry.\n",
        "\n",
        "Volatility: This is the option's implied volatility."
      ]
    },
    {
      "cell_type": "code",
      "metadata": {
        "id": "ZOwQwyc4aP8B"
      },
      "source": [
        "stock_price = 345.3\n",
        "strike_price = 350\n",
        "interest_rate = 0\n",
        "days_to_expiry = 29\n",
        "volatility = 30.0"
      ],
      "execution_count": 7,
      "outputs": []
    },
    {
      "cell_type": "markdown",
      "metadata": {
        "id": "OKTohSMvaSvi"
      },
      "source": [
        "## Step 3: Compute Greeks\n",
        "\n",
        "BS (Black-Scholes) is used for pricing European options on the stocks without dividends. The syntax is as follows:\n",
        "\n",
        "BS([stock_price, strike_price, interest_rate, days_to_expiry], volatility=x, callPrice=y, putPrice=z).\n",
        "\n",
        "The BS function returns  the following callPrice, putPrice, callDelta, putDelta, callTheta, putTheta, callRho, putRho, vega, and gamma\t\n"
      ]
    },
    {
      "cell_type": "code",
      "metadata": {
        "id": "zz5sgNLOaVvT"
      },
      "source": [
        "greeks = mibian.BS([500, 10, 10, 4], \\\n",
        "                   15"
      ],
      "execution_count": 9,
      "outputs": []
    },
    {
      "cell_type": "code",
      "metadata": {
        "colab": {
          "base_uri": "https://localhost:8080/"
        },
        "id": "MtBSoiA6aZyz",
        "outputId": "3e2a6e6a-a652-4455-ede0-857ef12cbfde"
      },
      "source": [
        "greeks.callRho"
      ],
      "execution_count": 11,
      "outputs": [
        {
          "output_type": "execute_result",
          "data": {
            "text/plain": [
              "0.11676568567858482"
            ]
          },
          "metadata": {
            "tags": []
          },
          "execution_count": 11
        }
      ]
    },
    {
      "cell_type": "markdown",
      "metadata": {
        "id": "giyKPIwYanBu"
      },
      "source": [
        "## Step 4: Greeks for Call Option\n"
      ]
    },
    {
      "cell_type": "code",
      "metadata": {
        "id": "fHggzOjkac3P",
        "colab": {
          "base_uri": "https://localhost:8080/"
        },
        "outputId": "ee11e966-0f5e-4428-add7-063d6cfb5e57"
      },
      "source": [
        "print(tabulate(\n",
        "        [\n",
        "            ['Delta',greeks.callDelta],\n",
        "            ['Gamma',greeks.gamma],\n",
        "            ['Vega',greeks.vega],\n",
        "            ['Theta',greeks.callTheta],\n",
        "            ['Rho',greeks.callRho]\n",
        "        ],headers=['Greeks','Value'],tablefmt='orgtbl'))\n",
        "print(\"\")\n",
        "print(\"The Call price is:\",greeks.callPrice)"
      ],
      "execution_count": 12,
      "outputs": [
        {
          "output_type": "stream",
          "text": [
            "| Greeks   |      Value |\n",
            "|----------+------------|\n",
            "| Delta    |  0.453193  |\n",
            "| Gamma    |  0.0135687 |\n",
            "| Vega     |  0.385617  |\n",
            "| Theta    | -0.199457  |\n",
            "| Rho      |  0.116766  |\n",
            "\n",
            "The Call price is: 9.524000211230145\n"
          ],
          "name": "stdout"
        }
      ]
    },
    {
      "cell_type": "markdown",
      "metadata": {
        "id": "xQyOUIYlag9d"
      },
      "source": [
        "## Step 5: Greeks for Put Option"
      ]
    },
    {
      "cell_type": "code",
      "metadata": {
        "colab": {
          "base_uri": "https://localhost:8080/"
        },
        "id": "b_BMcCUzahjf",
        "outputId": "774e91c0-6d1f-4992-f350-a4f1fc4e19ea"
      },
      "source": [
        "print(tabulate(\n",
        "        [\n",
        "            ['Delta', greeks.putDelta],\n",
        "            ['Gamma', greeks.gamma],\n",
        "            ['Vega', greeks.vega],\n",
        "            ['Theta', greeks.putTheta],\n",
        "            ['Rho', greeks.putRho]\n",
        "        ],headers=['Greeks', 'Value'], tablefmt='orgtbl'))\n",
        "print(\"\")\n",
        "print(\"The Put price is:\",greeks.putPrice)\n",
        "print(\"The Call price is:\",greeks.callPrice)"
      ],
      "execution_count": 13,
      "outputs": [
        {
          "output_type": "stream",
          "text": [
            "| Greeks   |      Value |\n",
            "|----------+------------|\n",
            "| Delta    | -0.546807  |\n",
            "| Gamma    |  0.0135687 |\n",
            "| Vega     |  0.385617  |\n",
            "| Theta    | -0.199457  |\n",
            "| Rho      | -0.161317  |\n",
            "\n",
            "The Put price is: 14.224000211230134\n",
            "The Call price is: 9.524000211230145\n"
          ],
          "name": "stdout"
        }
      ]
    },
    {
      "cell_type": "markdown",
      "metadata": {
        "id": "_lEqFTRiavk8"
      },
      "source": [
        "Below the Options Greeks table, the price of 100 strike call and 100 strike put is calculated. This is the theoretical option price as per the Black-Scholes options pricing model. This should ideally match the option price in the market. In the upcoming units, we will discuss in depth all the important Options Greeks and their sensitivity.\n",
        "<BR>\n"
      ]
    }
  ]
}